{
 "cells": [
  {
   "cell_type": "code",
   "execution_count": 1,
   "metadata": {},
   "outputs": [],
   "source": [
    "# dataframe and plot\n",
    "import numpy as np\n",
    "import pandas as pd\n",
    "import matplotlib.pyplot as plt\n",
    "import matplotlib.ticker as ticker\n",
    "\n",
    "# dataset\n",
    "from sklearn.datasets import load_boston\n",
    "# scaling and dataset split\n",
    "from sklearn import preprocessing\n",
    "from sklearn.model_selection import train_test_split\n",
    "# OLS, Ridge\n",
    "from sklearn.linear_model import LinearRegression, Ridge\n",
    "# model evaluation\n",
    "from sklearn.metrics import r2_score, mean_squared_error\n",
    "from sklearn.linear_model import LogisticRegressionCV\n",
    "from sklearn import linear_model"
   ]
  },
  {
   "cell_type": "code",
   "execution_count": 2,
   "metadata": {},
   "outputs": [],
   "source": [
    "# load dataset\n",
    "house_price = load_boston()\n",
    "df = pd.DataFrame(house_price.data, columns=house_price.feature_names)\n",
    "df['PRICE'] = house_price.target\n",
    "\n",
    "# standardize and train/test split\n",
    "house_price.data = preprocessing.scale(house_price.data)\n",
    "X_train, X_test, y_train, y_test = train_test_split(\n",
    "    house_price.data, house_price.target, test_size=0.3, random_state=10)"
   ]
  },
  {
   "cell_type": "code",
   "execution_count": 3,
   "metadata": {},
   "outputs": [
    {
     "data": {
      "text/html": [
       "<div>\n",
       "<style scoped>\n",
       "    .dataframe tbody tr th:only-of-type {\n",
       "        vertical-align: middle;\n",
       "    }\n",
       "\n",
       "    .dataframe tbody tr th {\n",
       "        vertical-align: top;\n",
       "    }\n",
       "\n",
       "    .dataframe thead th {\n",
       "        text-align: right;\n",
       "    }\n",
       "</style>\n",
       "<table border=\"1\" class=\"dataframe\">\n",
       "  <thead>\n",
       "    <tr style=\"text-align: right;\">\n",
       "      <th></th>\n",
       "      <th>CRIM</th>\n",
       "      <th>ZN</th>\n",
       "      <th>INDUS</th>\n",
       "      <th>CHAS</th>\n",
       "      <th>NOX</th>\n",
       "      <th>RM</th>\n",
       "      <th>AGE</th>\n",
       "      <th>DIS</th>\n",
       "      <th>RAD</th>\n",
       "      <th>TAX</th>\n",
       "      <th>PTRATIO</th>\n",
       "      <th>B</th>\n",
       "      <th>LSTAT</th>\n",
       "      <th>PRICE</th>\n",
       "    </tr>\n",
       "  </thead>\n",
       "  <tbody>\n",
       "    <tr>\n",
       "      <th>0</th>\n",
       "      <td>0.00632</td>\n",
       "      <td>18.0</td>\n",
       "      <td>2.31</td>\n",
       "      <td>0.0</td>\n",
       "      <td>0.538</td>\n",
       "      <td>6.575</td>\n",
       "      <td>65.2</td>\n",
       "      <td>4.0900</td>\n",
       "      <td>1.0</td>\n",
       "      <td>296.0</td>\n",
       "      <td>15.3</td>\n",
       "      <td>396.90</td>\n",
       "      <td>4.98</td>\n",
       "      <td>24.0</td>\n",
       "    </tr>\n",
       "    <tr>\n",
       "      <th>1</th>\n",
       "      <td>0.02731</td>\n",
       "      <td>0.0</td>\n",
       "      <td>7.07</td>\n",
       "      <td>0.0</td>\n",
       "      <td>0.469</td>\n",
       "      <td>6.421</td>\n",
       "      <td>78.9</td>\n",
       "      <td>4.9671</td>\n",
       "      <td>2.0</td>\n",
       "      <td>242.0</td>\n",
       "      <td>17.8</td>\n",
       "      <td>396.90</td>\n",
       "      <td>9.14</td>\n",
       "      <td>21.6</td>\n",
       "    </tr>\n",
       "    <tr>\n",
       "      <th>2</th>\n",
       "      <td>0.02729</td>\n",
       "      <td>0.0</td>\n",
       "      <td>7.07</td>\n",
       "      <td>0.0</td>\n",
       "      <td>0.469</td>\n",
       "      <td>7.185</td>\n",
       "      <td>61.1</td>\n",
       "      <td>4.9671</td>\n",
       "      <td>2.0</td>\n",
       "      <td>242.0</td>\n",
       "      <td>17.8</td>\n",
       "      <td>392.83</td>\n",
       "      <td>4.03</td>\n",
       "      <td>34.7</td>\n",
       "    </tr>\n",
       "    <tr>\n",
       "      <th>3</th>\n",
       "      <td>0.03237</td>\n",
       "      <td>0.0</td>\n",
       "      <td>2.18</td>\n",
       "      <td>0.0</td>\n",
       "      <td>0.458</td>\n",
       "      <td>6.998</td>\n",
       "      <td>45.8</td>\n",
       "      <td>6.0622</td>\n",
       "      <td>3.0</td>\n",
       "      <td>222.0</td>\n",
       "      <td>18.7</td>\n",
       "      <td>394.63</td>\n",
       "      <td>2.94</td>\n",
       "      <td>33.4</td>\n",
       "    </tr>\n",
       "    <tr>\n",
       "      <th>4</th>\n",
       "      <td>0.06905</td>\n",
       "      <td>0.0</td>\n",
       "      <td>2.18</td>\n",
       "      <td>0.0</td>\n",
       "      <td>0.458</td>\n",
       "      <td>7.147</td>\n",
       "      <td>54.2</td>\n",
       "      <td>6.0622</td>\n",
       "      <td>3.0</td>\n",
       "      <td>222.0</td>\n",
       "      <td>18.7</td>\n",
       "      <td>396.90</td>\n",
       "      <td>5.33</td>\n",
       "      <td>36.2</td>\n",
       "    </tr>\n",
       "  </tbody>\n",
       "</table>\n",
       "</div>"
      ],
      "text/plain": [
       "      CRIM    ZN  INDUS  CHAS    NOX     RM   AGE     DIS  RAD    TAX  \\\n",
       "0  0.00632  18.0   2.31   0.0  0.538  6.575  65.2  4.0900  1.0  296.0   \n",
       "1  0.02731   0.0   7.07   0.0  0.469  6.421  78.9  4.9671  2.0  242.0   \n",
       "2  0.02729   0.0   7.07   0.0  0.469  7.185  61.1  4.9671  2.0  242.0   \n",
       "3  0.03237   0.0   2.18   0.0  0.458  6.998  45.8  6.0622  3.0  222.0   \n",
       "4  0.06905   0.0   2.18   0.0  0.458  7.147  54.2  6.0622  3.0  222.0   \n",
       "\n",
       "   PTRATIO       B  LSTAT  PRICE  \n",
       "0     15.3  396.90   4.98   24.0  \n",
       "1     17.8  396.90   9.14   21.6  \n",
       "2     17.8  392.83   4.03   34.7  \n",
       "3     18.7  394.63   2.94   33.4  \n",
       "4     18.7  396.90   5.33   36.2  "
      ]
     },
     "execution_count": 3,
     "metadata": {},
     "output_type": "execute_result"
    }
   ],
   "source": [
    "df.head()"
   ]
  },
  {
   "cell_type": "code",
   "execution_count": 4,
   "metadata": {},
   "outputs": [
    {
     "name": "stdout",
     "output_type": "stream",
     "text": [
      "(354, 13)\n",
      "(354,)\n"
     ]
    }
   ],
   "source": [
    "print(X_train.shape)\n",
    "print(y_train.shape)"
   ]
  },
  {
   "cell_type": "code",
   "execution_count": 5,
   "metadata": {},
   "outputs": [],
   "source": [
    "reg = LinearRegression().fit(X_train, y_train)"
   ]
  },
  {
   "cell_type": "code",
   "execution_count": 6,
   "metadata": {},
   "outputs": [
    {
     "data": {
      "text/plain": [
       "0.7495400632086622"
      ]
     },
     "execution_count": 6,
     "metadata": {},
     "output_type": "execute_result"
    }
   ],
   "source": [
    "reg.score(X_train, y_train)"
   ]
  },
  {
   "cell_type": "code",
   "execution_count": 7,
   "metadata": {},
   "outputs": [
    {
     "data": {
      "text/plain": [
       "array([-1.32140428,  1.51483181, -0.16626579,  0.41157944, -1.77116763,\n",
       "        2.35282088,  0.31849871, -3.25664538,  2.63257618, -2.05946639,\n",
       "       -1.75520086,  1.18114343, -3.88704342])"
      ]
     },
     "execution_count": 7,
     "metadata": {},
     "output_type": "execute_result"
    }
   ],
   "source": [
    "reg.coef_"
   ]
  },
  {
   "cell_type": "code",
   "execution_count": 8,
   "metadata": {},
   "outputs": [
    {
     "data": {
      "text/plain": [
       "22.39477120628105"
      ]
     },
     "execution_count": 8,
     "metadata": {},
     "output_type": "execute_result"
    }
   ],
   "source": [
    "reg.intercept_ "
   ]
  },
  {
   "cell_type": "code",
   "execution_count": 9,
   "metadata": {},
   "outputs": [
    {
     "name": "stdout",
     "output_type": "stream",
     "text": [
      "(354, 14)\n"
     ]
    }
   ],
   "source": [
    "x = np.c_[X_train, np.ones(X_train.shape[0])]\n",
    "print(x.shape)"
   ]
  },
  {
   "cell_type": "code",
   "execution_count": 10,
   "metadata": {},
   "outputs": [],
   "source": [
    "def reg(X,y):\n",
    "    reg = np.dot(np.linalg.pinv(np.dot(np.transpose(X),X)),np.dot(np.transpose(X), y))\n",
    "    return reg"
   ]
  },
  {
   "cell_type": "code",
   "execution_count": 11,
   "metadata": {},
   "outputs": [
    {
     "data": {
      "text/plain": [
       "array([-1.32140428,  1.51483181, -0.16626579,  0.41157944, -1.77116763,\n",
       "        2.35282088,  0.31849871, -3.25664538,  2.63257618, -2.05946639,\n",
       "       -1.75520086,  1.18114343, -3.88704342, 22.39477121])"
      ]
     },
     "execution_count": 11,
     "metadata": {},
     "output_type": "execute_result"
    }
   ],
   "source": [
    "R = reg(x,y_train)\n",
    "R"
   ]
  },
  {
   "cell_type": "code",
   "execution_count": 12,
   "metadata": {},
   "outputs": [],
   "source": [
    "def regress(X, α, β):\n",
    "    y_chap = np.dot(α,np.transpose(X)) + β\n",
    "    return y_chap"
   ]
  },
  {
   "cell_type": "code",
   "execution_count": 13,
   "metadata": {},
   "outputs": [
    {
     "data": {
      "text/plain": [
       "22.39477120628103"
      ]
     },
     "execution_count": 13,
     "metadata": {},
     "output_type": "execute_result"
    }
   ],
   "source": [
    "β = R[-1]\n",
    "β"
   ]
  },
  {
   "cell_type": "code",
   "execution_count": 14,
   "metadata": {},
   "outputs": [
    {
     "data": {
      "text/plain": [
       "array([-1.32140428,  1.51483181, -0.16626579,  0.41157944, -1.77116763,\n",
       "        2.35282088,  0.31849871, -3.25664538,  2.63257618, -2.05946639,\n",
       "       -1.75520086,  1.18114343, -3.88704342])"
      ]
     },
     "execution_count": 14,
     "metadata": {},
     "output_type": "execute_result"
    }
   ],
   "source": [
    "α = R[:-1]\n",
    "α"
   ]
  },
  {
   "cell_type": "code",
   "execution_count": 15,
   "metadata": {},
   "outputs": [
    {
     "data": {
      "text/plain": [
       "6888.726767720123"
      ]
     },
     "execution_count": 15,
     "metadata": {},
     "output_type": "execute_result"
    }
   ],
   "source": [
    "Y_chap = regress(X_train, α, β)\n",
    "erreur = sum((y_train-Y_chap)**2)\n",
    "erreur"
   ]
  },
  {
   "cell_type": "code",
   "execution_count": 16,
   "metadata": {},
   "outputs": [
    {
     "data": {
      "text/plain": [
       "354"
      ]
     },
     "execution_count": 16,
     "metadata": {},
     "output_type": "execute_result"
    }
   ],
   "source": [
    "y_train.shape[0]"
   ]
  },
  {
   "cell_type": "code",
   "execution_count": 17,
   "metadata": {},
   "outputs": [],
   "source": [
    "def ridge_regression(X, y , lambdaa):\n",
    "    I_ = np.eye(X.shape[1])\n",
    "    reg = np.dot(np.linalg.pinv(np.dot(np.transpose(X),X) + lambdaa*I_),np.dot(np.transpose(X), y))\n",
    "    return reg"
   ]
  },
  {
   "cell_type": "code",
   "execution_count": 18,
   "metadata": {},
   "outputs": [
    {
     "data": {
      "text/plain": [
       "array([-1.31009633,  1.49401402, -0.1802062 ,  0.41280683, -1.73584019,\n",
       "        2.36756974,  0.30583892, -3.21078042,  2.54436578, -1.97852069,\n",
       "       -1.74477602,  1.17951693, -3.86581417, 22.33102639])"
      ]
     },
     "execution_count": 18,
     "metadata": {},
     "output_type": "execute_result"
    }
   ],
   "source": [
    "R_ = ridge_regression(x,y_train,1)\n",
    "R_"
   ]
  },
  {
   "cell_type": "code",
   "execution_count": 19,
   "metadata": {},
   "outputs": [
    {
     "data": {
      "text/plain": [
       "22.33102638952233"
      ]
     },
     "execution_count": 19,
     "metadata": {},
     "output_type": "execute_result"
    }
   ],
   "source": [
    "β_ = R_[-1]\n",
    "β_"
   ]
  },
  {
   "cell_type": "code",
   "execution_count": 20,
   "metadata": {},
   "outputs": [
    {
     "data": {
      "text/plain": [
       "array([-1.31009633,  1.49401402, -0.1802062 ,  0.41280683, -1.73584019,\n",
       "        2.36756974,  0.30583892, -3.21078042,  2.54436578, -1.97852069,\n",
       "       -1.74477602,  1.17951693, -3.86581417])"
      ]
     },
     "execution_count": 20,
     "metadata": {},
     "output_type": "execute_result"
    }
   ],
   "source": [
    "α_ = R_[:-1]\n",
    "α_"
   ]
  },
  {
   "cell_type": "code",
   "execution_count": 59,
   "metadata": {},
   "outputs": [],
   "source": [
    "# initialize\n",
    "ridge_reg = Ridge(alpha=0)\n",
    "ridge_reg.fit(X_train, y_train)\n",
    "ridge_df = pd.DataFrame({'variable': house_price.feature_names, 'estimate': ridge_reg.coef_})\n",
    "ridge_train_pred = []\n",
    "ridge_test_pred = []\n",
    "\n",
    "# iterate lambdas\n",
    "for alpha in np.arange(0.001, 1000, 1):\n",
    "    # training\n",
    "    ridge_reg = Ridge(alpha=alpha)\n",
    "    ridge_reg.fit(X_train, y_train)\n",
    "    var_name = 'estimate' + str(alpha)\n",
    "    ridge_df[var_name] = ridge_reg.coef_\n",
    "    # prediction\n",
    "    ridge_train_pred.append(ridge_reg.predict(X_train))\n",
    "    ridge_test_pred.append(ridge_reg.predict(X_test))\n",
    "\n",
    "# organize dataframe\n",
    "ridge_df = ridge_df.set_index('variable').T.rename_axis('estimate').rename_axis(None).reset_index()\n"
   ]
  },
  {
   "cell_type": "code",
   "execution_count": 22,
   "metadata": {},
   "outputs": [
    {
     "data": {
      "text/plain": [
       "array([-0.38435433,  0.44187439, -0.45693531,  0.26826135, -0.36566109,\n",
       "        1.07371529, -0.30620561, -0.03738011, -0.21810837, -0.42067111,\n",
       "       -0.69094802,  0.4263989 , -1.08840083])"
      ]
     },
     "execution_count": 22,
     "metadata": {},
     "output_type": "execute_result"
    }
   ],
   "source": [
    "ridge_reg.coef_"
   ]
  },
  {
   "cell_type": "code",
   "execution_count": 23,
   "metadata": {},
   "outputs": [
    {
     "data": {
      "text/plain": [
       "22.187073179125132"
      ]
     },
     "execution_count": 23,
     "metadata": {},
     "output_type": "execute_result"
    }
   ],
   "source": [
    "ridge_reg.intercept_"
   ]
  },
  {
   "cell_type": "code",
   "execution_count": 24,
   "metadata": {
    "scrolled": true
   },
   "outputs": [
    {
     "data": {
      "image/png": "[encoded data removed]",
      "text/plain": [
       "<Figure size 720x360 with 1 Axes>"
      ]
     },
     "metadata": {
      "needs_background": "light"
     },
     "output_type": "display_data"
    }
   ],
   "source": [
    "# plot betas by lambda\n",
    "fig, ax = plt.subplots(figsize=(10, 5))\n",
    "ax.plot(ridge_df.RM, 'r', ridge_df.ZN, 'g', ridge_df.RAD, 'b', ridge_df.CRIM, 'c', ridge_df.TAX, 'y')\n",
    "ax.axhline(y=0, color='black', linestyle='--')\n",
    "ax.set_xlabel(\"Lambda\")\n",
    "ax.set_ylabel(\"Beta Estimate\")\n",
    "ax.set_title(\"Ridge Regression Trace\", fontsize=16)\n",
    "ax.legend(labels=['Room','Residential Zone','Highway Access','Crime Rate','Tax'])\n",
    "ax.grid(True)"
   ]
  },
  {
   "cell_type": "raw",
   "metadata": {},
   "source": [
    "La «chambre» devrait être le meilleur indicateur du prix des logements par intuition. C'est pourquoi la ligne en rouge ne\n",
    "rétrécit pas tout à fait au fil des itérations. Au contraire, «Highway Access» (bleu) diminue considérablement, ce qui \n",
    "signifie que la fonctionnalité perd de son importance alors que nous recherchons des modèles plus généraux. Les motifs \n",
    "similaires sont vus du reste convergeant vers zéro, la ligne pointillée noire. Si nous augmentons de plus en plus le lambda, alors seule la «pièce» resterait significative, ce qui est à nouveau logique car le nombre de pièces doit expliquer le plus."
   ]
  },
  {
   "cell_type": "code",
   "execution_count": 25,
   "metadata": {},
   "outputs": [
    {
     "data": {
      "text/plain": [
       "0.7491876095302601"
      ]
     },
     "execution_count": 25,
     "metadata": {},
     "output_type": "execute_result"
    }
   ],
   "source": [
    "from sklearn.linear_model import RidgeCV\n",
    "alphas = np.arange(0.001, 1000, 1)\n",
    "model = RidgeCV(alphas).fit(X_train, y_train)\n",
    "model.score(X_train, y_train)"
   ]
  },
  {
   "cell_type": "code",
   "execution_count": 26,
   "metadata": {},
   "outputs": [
    {
     "data": {
      "text/plain": [
       "array([-1.31286582,  1.49912938, -0.17686952,  0.41252599, -1.74454884,\n",
       "        2.36396994,  0.30895606, -3.22215788,  2.56588392, -1.99820048,\n",
       "       -1.74735037,  1.17992892, -3.87109855, 22.34698481])"
      ]
     },
     "execution_count": 26,
     "metadata": {},
     "output_type": "execute_result"
    }
   ],
   "source": [
    "R_new = ridge_regression(x,y_train,0.7491876095302601)\n",
    "R_new "
   ]
  },
  {
   "cell_type": "code",
   "execution_count": 27,
   "metadata": {},
   "outputs": [
    {
     "data": {
      "text/plain": [
       "6889.92916947442"
      ]
     },
     "execution_count": 27,
     "metadata": {},
     "output_type": "execute_result"
    }
   ],
   "source": [
    "Y_chap = regress(X_train, R_new[:-1], R_new[-1])\n",
    "erreur = sum((y_train-Y_chap)**2)\n",
    "erreur"
   ]
  },
  {
   "cell_type": "code",
   "execution_count": 53,
   "metadata": {},
   "outputs": [
    {
     "data": {
      "text/plain": [
       "Lasso(alpha=0.5)"
      ]
     },
     "execution_count": 53,
     "metadata": {},
     "output_type": "execute_result"
    }
   ],
   "source": [
    "from sklearn.linear_model import Lasso\n",
    "reg = Lasso(alpha=0.5)\n",
    "reg.fit(X_train, y_train)"
   ]
  },
  {
   "cell_type": "code",
   "execution_count": 60,
   "metadata": {},
   "outputs": [],
   "source": [
    "# initialize\n",
    "lasso_df = pd.DataFrame({'variable': house_price.feature_names, 'estimate': reg.coef_})\n",
    "lasso_train_pred = []\n",
    "lasso_test_pred = []\n",
    "for alpha in np.arange(0.001, 10, 1):\n",
    "    # training\n",
    "    reg = Lasso(alpha=alpha)\n",
    "    reg.fit(X_train, y_train)\n",
    "    var_name = 'estimate' + str(alpha)\n",
    "    lasso_df[var_name] = reg.coef_\n",
    "    # prediction\n",
    "    lasso_train_pred.append(reg.predict(X_train))\n",
    "    lasso_test_pred.append(reg.predict(X_test))\n",
    "\n",
    "# organize dataframe\n",
    "lasso_df = lasso_df.set_index('variable').T.rename_axis('estimate').rename_axis(None).reset_index()\n"
   ]
  },
  {
   "cell_type": "code",
   "execution_count": 61,
   "metadata": {},
   "outputs": [
    {
     "data": {
      "image/png": "[encoded data removed]",
      "text/plain": [
       "<Figure size 720x360 with 1 Axes>"
      ]
     },
     "metadata": {
      "needs_background": "light"
     },
     "output_type": "display_data"
    }
   ],
   "source": [
    "# plot betas by lambda\n",
    "fig, ax = plt.subplots(figsize=(10, 5))\n",
    "ax.plot(lasso_df.RM, 'r', lasso_df.ZN, 'g', lasso_df.RAD, 'b', lasso_df.CRIM, 'c', lasso_df.TAX, 'y')\n",
    "ax.axhline(y=0, color='black', linestyle='--')\n",
    "ax.set_xlabel(\"Lambda\")\n",
    "ax.set_ylabel(\"Beta Estimate\")\n",
    "ax.set_title(\"Lasso Regression Trace\", fontsize=16)\n",
    "ax.legend(labels=['Room','Residential Zone','Highway Access','Crime Rate','Tax'])\n",
    "ax.grid(True)"
   ]
  },
  {
   "cell_type": "raw",
   "metadata": {},
   "source": [
    "Avec la regression Lasso nous remarquons que toutes nos variables convergent vers 0, elles sont donc tous des indicateurs du prix des logements."
   ]
  },
  {
   "cell_type": "code",
   "execution_count": 44,
   "metadata": {},
   "outputs": [
    {
     "data": {
      "text/plain": [
       "0.7495121696925291"
      ]
     },
     "execution_count": 44,
     "metadata": {},
     "output_type": "execute_result"
    }
   ],
   "source": [
    "from sklearn.linear_model import LassoCV\n",
    "model = LassoCV(cv=5, random_state=0).fit(X_train, y_train)\n",
    "model.score(X_train, y_train)"
   ]
  },
  {
   "cell_type": "code",
   "execution_count": 45,
   "metadata": {},
   "outputs": [
    {
     "data": {
      "text/plain": [
       "array([-0.11271074,  0.        , -0.        ,  0.        , -0.        ,\n",
       "        2.61470769, -0.        , -0.        , -0.        , -0.        ,\n",
       "       -1.33835395,  0.68914086, -3.60498631])"
      ]
     },
     "execution_count": 45,
     "metadata": {},
     "output_type": "execute_result"
    }
   ],
   "source": [
    "reg = Lasso(alpha=0.7495121696925291)\n",
    "reg.fit(X_train, y_train)\n",
    "reg.coef_"
   ]
  },
  {
   "cell_type": "code",
   "execution_count": 46,
   "metadata": {},
   "outputs": [
    {
     "data": {
      "text/plain": [
       "8888.449801339913"
      ]
     },
     "execution_count": 46,
     "metadata": {},
     "output_type": "execute_result"
    }
   ],
   "source": [
    "Y_chap = regress(X_train, reg.coef_, reg.intercept_)\n",
    "erreur = sum((y_train-Y_chap)**2)\n",
    "erreur"
   ]
  },
  {
   "cell_type": "code",
   "execution_count": null,
   "metadata": {},
   "outputs": [],
   "source": []
  }
 ],
 "metadata": {
  "kernelspec": {
   "display_name": "Python 3",
   "language": "python",
   "name": "python3"
  },
  "language_info": {
   "codemirror_mode": {
    "name": "ipython",
    "version": 3
   },
   "file_extension": ".py",
   "mimetype": "text/x-python",
   "name": "python",
   "nbconvert_exporter": "python",
   "pygments_lexer": "ipython3",
   "version": "3.7.6"
  }
 },
 "nbformat": 4,
 "nbformat_minor": 4
}
